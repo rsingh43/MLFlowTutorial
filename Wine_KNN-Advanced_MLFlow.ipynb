{
 "cells": [
  {
   "cell_type": "markdown",
   "metadata": {},
   "source": [
    "# Imports"
   ]
  },
  {
   "cell_type": "code",
   "execution_count": null,
   "metadata": {},
   "outputs": [],
   "source": [
    "import os, errno\n",
    "\n",
    "import matplotlib as mpl\n",
    "from matplotlib import pyplot as plt\n",
    "import numpy as np\n",
    "import pandas as pd\n",
    "from sklearn import datasets\n",
    "from sklearn.metrics import accuracy_score, plot_confusion_matrix, precision_recall_fscore_support\n",
    "from sklearn.model_selection import train_test_split\n",
    "from sklearn.neighbors import KNeighborsClassifier\n",
    "\n",
    "import mlflow\n",
    "import mlflow.sklearn\n",
    "\n",
    "from IPython.display import display, HTML"
   ]
  },
  {
   "cell_type": "markdown",
   "metadata": {},
   "source": [
    "# Function Definitions"
   ]
  },
  {
   "cell_type": "code",
   "execution_count": null,
   "metadata": {},
   "outputs": [],
   "source": [
    "def makedirs(path):\n",
    "    try:\n",
    "        os.makedirs(path)\n",
    "    except OSError as e:\n",
    "        if e.errno != errno.EEXIST:\n",
    "            raise"
   ]
  },
  {
   "cell_type": "code",
   "execution_count": null,
   "metadata": {},
   "outputs": [],
   "source": [
    "def download_wine(basename, dirname):\n",
    "    print(\"downloading wine dataset\")\n",
    "    data = datasets.load_wine(as_frame=True)\n",
    "    df = data.frame\n",
    "    targets = df.columns[~np.in1d(df.columns,data.feature_names)]\n",
    "    df[targets] = data.target_names[df[targets]]\n",
    "    print(data.target_names)\n",
    "    makedirs(dirname)\n",
    "    with open(os.path.join(dirname, basename), \"w\") as fp:\n",
    "        df.to_csv(fp)"
   ]
  },
  {
   "cell_type": "code",
   "execution_count": null,
   "metadata": {},
   "outputs": [],
   "source": [
    "def load_wine(basename=\"data.csv\", dirname=\"./datasets/wine\"):\n",
    "    if not os.path.exists( os.path.join(dirname, basename) ):\n",
    "        download_wine(basename, dirname)\n",
    "    with open(os.path.join(dirname, basename)) as fp:\n",
    "        dataset_df = pd.read_csv(fp, index_col=0)\n",
    "    return dataset_df"
   ]
  },
  {
   "cell_type": "markdown",
   "metadata": {},
   "source": [
    "# K Nearest Neighbor"
   ]
  },
  {
   "cell_type": "code",
   "execution_count": null,
   "metadata": {
    "scrolled": false
   },
   "outputs": [],
   "source": [
    "def train_knn(n_neighbors=5, weights=\"uniform\"):\n",
    "    # set the name of this run within the experiment\n",
    "    run_name = \"KNN({}, {}) - Advanced MLFlow\".format(n_neighbors, weights)\n",
    "    with mlflow.start_run(run_name=run_name) as run:\n",
    "        # load dataset\n",
    "        dataset_df = load_wine()\n",
    "        X = dataset_df[dataset_df.columns[:-1]]\n",
    "        y = dataset_df[dataset_df.columns[-1]]\n",
    "        \n",
    "        # create train/test splits\n",
    "        splits = train_test_split(X, y, test_size=0.25, random_state=0, shuffle=True, stratify=y)\n",
    "        X_train, X_test, y_train, y_test = splits\n",
    "\n",
    "        # build classifier\n",
    "        knn = KNeighborsClassifier(n_neighbors=n_neighbors, weights=weights)\n",
    "        knn.fit(X_train, y_train)\n",
    "\n",
    "        # save model parameters\n",
    "        params = knn.get_params()\n",
    "        mlflow.log_params(params)\n",
    "\n",
    "        # evaluate performance\n",
    "        y_pred = knn.predict(X_test)\n",
    "        accuracy = accuracy_score(y_test, y_pred)\n",
    "        metrics = precision_recall_fscore_support(y_test, y_pred, average=\"macro\")\n",
    "        precision, recall, fscore, support = metrics\n",
    "        print(\"{1:10.4f} {0:}\".format(\"Accuracy\",  accuracy))\n",
    "        print(\"{1:10.4f} {0:}\".format(\"Precision\", precision))\n",
    "        print(\"{1:10.4f} {0:}\".format(\"Recall\",    recall))\n",
    "        print(\"{1:10.4f} {0:}\".format(\"Fscore\",    fscore))\n",
    "        \n",
    "        disp = plot_confusion_matrix(knn, X_test, y_test, display_labels=None, include_values=True, xticks_rotation=40, values_format=None, cmap=\"Blues\", ax=None)\n",
    "        disp.ax_.set_xticklabels(dataset_df[\"target\"].unique(), rotation=40, ha=\"right\")\n",
    "        disp.ax_.set_title( \"{} Confusion Matrix\".format(knn.__class__.__name__) )\n",
    "        disp.ax_.set_xlabel(\"Predicted\")\n",
    "        disp.ax_.set_ylabel(\"Acutal\")\n",
    "        plt.tight_layout()\n",
    "        plt.savefig(\"./confusion_matrix.png\", dpi=1200)\n",
    "        plt.show()\n",
    "        mlflow.log_artifact(\"./confusion_matrix.png\")\n",
    "        \n",
    "        # save performance metrics\n",
    "        metrics = {\"accuracy\":accuracy, \"precision\":precision, \"recall\":recall, \"fscore\":fscore}\n",
    "        mlflow.log_metrics(metrics)\n",
    "\n",
    "        # save the trained model\n",
    "        mlflow.sklearn.log_model(knn, \"model\")"
   ]
  },
  {
   "cell_type": "markdown",
   "metadata": {},
   "source": [
    "# Run Experiments"
   ]
  },
  {
   "cell_type": "markdown",
   "metadata": {},
   "source": [
    "## Default Local Storage\n",
    "\n",
    "By default, the MLflow Python API logs runs locally to files in a `mlruns` directory wherever you ran your program. You can see the logged runs by running the `mlflow ui` command in the same directory as your code and then viewing the following webpage: http://localhost:5000"
   ]
  },
  {
   "cell_type": "code",
   "execution_count": null,
   "metadata": {
    "scrolled": false
   },
   "outputs": [],
   "source": [
    "print(\"tracking location:\", mlflow.tracking.get_tracking_uri() )\n",
    "\n",
    "# set the mlflow experiment\n",
    "mlflow.set_experiment(\"Wine (Default Local Storage)\")\n",
    "print()\n",
    "\n",
    "print(\"KNN, n_neighbors=1\")\n",
    "train_knn(n_neighbors=1)"
   ]
  },
  {
   "cell_type": "markdown",
   "metadata": {},
   "source": [
    "## User-Defined Local Storage\n",
    "\n",
    "\n",
    "MLflow Python API function [`mlflow.tracking.set_tracking_uri`](https://www.mlflow.org/docs/latest/python_api/mlflow.html#mlflow.set_tracking_uri) can be used to change the location of logged runs. To change the local directory used to log runs, a local file path, prefixed with `file:/` can be passed to the `mlflow.tracking.set_tracking_uri` function.  For example, `mlflow.tracking.set_tracking_uri(\"file:./advanced_mlruns\")`\n",
    "\n",
    "The `--backend-store-uri` option to the `mlflow ui` command is used to view logs saved to user-specified directories. For example, `mlflow ui --backend-store-uri ./advanced_mlruns`.\n",
    "\n",
    "http://localhost:5000"
   ]
  },
  {
   "cell_type": "code",
   "execution_count": null,
   "metadata": {},
   "outputs": [],
   "source": [
    "mlflow.tracking.set_tracking_uri(\"file:./advanced_mlruns\")\n",
    "print(\"tracking location:\", mlflow.tracking.get_tracking_uri() )\n",
    "\n",
    "# set the mlflow experiment\n",
    "mlflow.set_experiment(\"Wine (User-Defined Local Storage)\")\n",
    "print()\n",
    "\n",
    "print(\"KNN, n_neighbors=5, weights=uniform\")\n",
    "train_knn(n_neighbors=5, weights=\"uniform\")"
   ]
  },
  {
   "cell_type": "markdown",
   "metadata": {},
   "source": [
    "## Remote Storage\n",
    "\n",
    "The [`mlflow.tracking.set_tracking_uri`](https://www.mlflow.org/docs/latest/python_api/mlflow.html#mlflow.set_tracking_uri) can also be used to log runs remotely by providing an HTTP URL string(remote server link). An MLFlow server must be running on the host and port specified by the URL. The `mlflow server` command can be used to start an MLFlow server.  The `--host` option can be used to change the default network address interface used (`127.0.0.1` by default, `0.0.0.0` for all addresses), while the `--port` option is used to change the default port. The `--backend-store-uri` option is used to specify the location the server uses to save runs.  For example, `mlflow server --host 0.0.0.0 --port 80 --backend-store-uri ./online_mlruns`.\n",
    "\n",
    "In addition to logging runs, the MLFlow server can also be used to view the runs, just like with the `mlflow ui` command.\n",
    "\n",
    "\n",
    "https://github.com/mlflow/mlflow/issues/572#issuecomment-427718078"
   ]
  },
  {
   "cell_type": "code",
   "execution_count": null,
   "metadata": {
    "scrolled": false
   },
   "outputs": [],
   "source": [
    "mlflow.tracking.set_tracking_uri(\"remote server link\")\n",
    "print(\"tracking location:\", mlflow.tracking.get_tracking_uri() )\n",
    "\n",
    "# set the mlflow experiment\n",
    "mlflow.set_experiment(\"Wine (Fusemachines tutorial)\")\n",
    "print()\n",
    "\n",
    "print(\"KNN, n_neighbors=1\")\n",
    "train_knn(n_neighbors=1)\n",
    "print()\n",
    "\n",
    "print(\"KNN, n_neighbors=5, weights=uniform\")\n",
    "train_knn(n_neighbors=5, weights=\"uniform\")\n",
    "print()\n",
    "\n",
    "print(\"KNN, n_neighbors=5, weights=distance\")\n",
    "train_knn(n_neighbors=5, weights=\"distance\")"
   ]
  }
 ],
 "metadata": {
  "kernelspec": {
   "display_name": "Python 3",
   "language": "python",
   "name": "python3"
  },
  "language_info": {
   "codemirror_mode": {
    "name": "ipython",
    "version": 3
   },
   "file_extension": ".py",
   "mimetype": "text/x-python",
   "name": "python",
   "nbconvert_exporter": "python",
   "pygments_lexer": "ipython3",
   "version": "3.8.3"
  }
 },
 "nbformat": 4,
 "nbformat_minor": 4
}
