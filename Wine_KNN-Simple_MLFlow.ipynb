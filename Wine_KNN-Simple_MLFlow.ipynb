{
 "cells": [
  {
   "cell_type": "markdown",
   "metadata": {},
   "source": [
    "# Imports"
   ]
  },
  {
   "cell_type": "code",
   "execution_count": 1,
   "metadata": {},
   "outputs": [],
   "source": [
    "import os, errno\n",
    "\n",
    "import numpy as np\n",
    "import pandas as pd\n",
    "from sklearn import datasets\n",
    "from sklearn.metrics import accuracy_score, precision_recall_fscore_support\n",
    "from sklearn.model_selection import train_test_split\n",
    "from sklearn.neighbors import KNeighborsClassifier\n",
    "\n",
    "import mlflow\n",
    "import mlflow.sklearn"
   ]
  },
  {
   "cell_type": "markdown",
   "metadata": {},
   "source": [
    "# Function Definitions"
   ]
  },
  {
   "cell_type": "code",
   "execution_count": 2,
   "metadata": {},
   "outputs": [],
   "source": [
    "def makedirs(path):\n",
    "    try:\n",
    "        os.makedirs(path)\n",
    "    except OSError as e:\n",
    "        if e.errno != errno.EEXIST:\n",
    "            raise"
   ]
  },
  {
   "cell_type": "code",
   "execution_count": 3,
   "metadata": {},
   "outputs": [],
   "source": [
    "def download_wine(basename, dirname):\n",
    "    print(\"downloading wine dataset\")\n",
    "    data = datasets.load_wine(as_frame=True)\n",
    "    df = data.frame\n",
    "    targets = df.columns[~np.in1d(df.columns,data.feature_names)]\n",
    "    df[targets] = data.target_names[df[targets]]\n",
    "    makedirs(dirname)\n",
    "    with open(os.path.join(dirname, basename), \"w\") as fp:\n",
    "        df.to_csv(fp)"
   ]
  },
  {
   "cell_type": "code",
   "execution_count": 4,
   "metadata": {},
   "outputs": [],
   "source": [
    "def load_wine(basename=\"data.csv\", dirname=\"./datasets/wine\"):\n",
    "    if not os.path.exists( os.path.join(dirname, basename) ):\n",
    "        download_wine(basename, dirname)\n",
    "    with open(os.path.join(dirname, basename)) as fp:\n",
    "        dataset_df = pd.read_csv(fp, index_col=0)\n",
    "    return dataset_df"
   ]
  },
  {
   "cell_type": "markdown",
   "metadata": {},
   "source": [
    "# K Nearest Neighbor"
   ]
  },
  {
   "cell_type": "code",
   "execution_count": 5,
   "metadata": {
    "scrolled": false
   },
   "outputs": [],
   "source": [
    "def train_knn(n_neighbors=5, weights=\"uniform\"):    \n",
    "    # set the name of this run within the experiment\n",
    "    run_name = \"KNN({}, {}) - Simple MLFlow\".format(n_neighbors, weights)\n",
    "    mlflow.start_run(run_name=run_name)\n",
    "    \n",
    "    # load dataset\n",
    "    dataset_df = load_wine()\n",
    "    X = dataset_df[dataset_df.columns[:-1]]\n",
    "    y = dataset_df[dataset_df.columns[-1]]\n",
    "    \n",
    "    # create train/test splits\n",
    "    splits = train_test_split(X, y, test_size=0.25, random_state=0, shuffle=True, stratify=y)\n",
    "    X_train, X_test, y_train, y_test = splits\n",
    "    \n",
    "    # build classifier\n",
    "    knn = KNeighborsClassifier(n_neighbors=n_neighbors, weights=weights)\n",
    "    knn.fit(X_train, y_train)\n",
    "    \n",
    "    # save model parameters\n",
    "    mlflow.log_param(\"n_neighbors\", n_neighbors)\n",
    "    mlflow.log_param(\"weights\",     weights)\n",
    "    \n",
    "    # evaluate performance\n",
    "    y_pred = knn.predict(X_test)\n",
    "    accuracy = accuracy_score(y_test, y_pred)\n",
    "    metrics = precision_recall_fscore_support(y_test, y_pred, average=\"macro\")\n",
    "    precision, recall, fscore, support = metrics\n",
    "    print(\"{1:10.4f} {0:}\".format(\"Accuracy\",  accuracy))\n",
    "    print(\"{1:10.4f} {0:}\".format(\"Precision\", precision))\n",
    "    print(\"{1:10.4f} {0:}\".format(\"Recall\",    recall))\n",
    "    print(\"{1:10.4f} {0:}\".format(\"Fscore\",    fscore))\n",
    "\n",
    "    # save performance metrics\n",
    "    mlflow.log_metric(\"accuracy\",  accuracy)\n",
    "    mlflow.log_metric(\"precision\", precision)\n",
    "    mlflow.log_metric(\"recall\",    recall)\n",
    "    mlflow.log_metric(\"fscore\",    fscore)\n",
    "\n",
    "    # save the trained model\n",
    "    mlflow.sklearn.log_model(knn, \"model\")\n",
    "    \n",
    "    # always make sure to end the run\n",
    "    mlflow.end_run()"
   ]
  },
  {
   "cell_type": "markdown",
   "metadata": {},
   "source": [
    "# Run Experiments"
   ]
  },
  {
   "cell_type": "code",
   "execution_count": 6,
   "metadata": {},
   "outputs": [
    {
     "name": "stderr",
     "output_type": "stream",
     "text": [
      "WARNING:root:Malformed experiment '6'. Detailed error Yaml file '/Users/rina/Documents/Rubicon/Tutorial/mlruns/6/meta.yaml' does not exist.\n",
      "Traceback (most recent call last):\n",
      "  File \"/Users/rina/miniconda3/envs/mlflow/lib/python3.8/site-packages/mlflow/store/tracking/file_store.py\", line 197, in list_experiments\n",
      "    experiment = self._get_experiment(exp_id, view_type)\n",
      "  File \"/Users/rina/miniconda3/envs/mlflow/lib/python3.8/site-packages/mlflow/store/tracking/file_store.py\", line 260, in _get_experiment\n",
      "    meta = read_yaml(experiment_dir, FileStore.META_DATA_FILE_NAME)\n",
      "  File \"/Users/rina/miniconda3/envs/mlflow/lib/python3.8/site-packages/mlflow/utils/file_utils.py\", line 167, in read_yaml\n",
      "    raise MissingConfigException(\"Yaml file '%s' does not exist.\" % file_path)\n",
      "mlflow.exceptions.MissingConfigException: Yaml file '/Users/rina/Documents/Rubicon/Tutorial/mlruns/6/meta.yaml' does not exist.\n",
      "WARNING:root:Malformed experiment '5'. Detailed error Yaml file '/Users/rina/Documents/Rubicon/Tutorial/mlruns/5/meta.yaml' does not exist.\n",
      "Traceback (most recent call last):\n",
      "  File \"/Users/rina/miniconda3/envs/mlflow/lib/python3.8/site-packages/mlflow/store/tracking/file_store.py\", line 197, in list_experiments\n",
      "    experiment = self._get_experiment(exp_id, view_type)\n",
      "  File \"/Users/rina/miniconda3/envs/mlflow/lib/python3.8/site-packages/mlflow/store/tracking/file_store.py\", line 260, in _get_experiment\n",
      "    meta = read_yaml(experiment_dir, FileStore.META_DATA_FILE_NAME)\n",
      "  File \"/Users/rina/miniconda3/envs/mlflow/lib/python3.8/site-packages/mlflow/utils/file_utils.py\", line 167, in read_yaml\n",
      "    raise MissingConfigException(\"Yaml file '%s' does not exist.\" % file_path)\n",
      "mlflow.exceptions.MissingConfigException: Yaml file '/Users/rina/Documents/Rubicon/Tutorial/mlruns/5/meta.yaml' does not exist.\n",
      "WARNING:root:Malformed experiment '6'. Detailed error Yaml file '/Users/rina/Documents/Rubicon/Tutorial/mlruns/6/meta.yaml' does not exist.\n",
      "Traceback (most recent call last):\n",
      "  File \"/Users/rina/miniconda3/envs/mlflow/lib/python3.8/site-packages/mlflow/store/tracking/file_store.py\", line 197, in list_experiments\n",
      "    experiment = self._get_experiment(exp_id, view_type)\n",
      "  File \"/Users/rina/miniconda3/envs/mlflow/lib/python3.8/site-packages/mlflow/store/tracking/file_store.py\", line 260, in _get_experiment\n",
      "    meta = read_yaml(experiment_dir, FileStore.META_DATA_FILE_NAME)\n",
      "  File \"/Users/rina/miniconda3/envs/mlflow/lib/python3.8/site-packages/mlflow/utils/file_utils.py\", line 167, in read_yaml\n",
      "    raise MissingConfigException(\"Yaml file '%s' does not exist.\" % file_path)\n",
      "mlflow.exceptions.MissingConfigException: Yaml file '/Users/rina/Documents/Rubicon/Tutorial/mlruns/6/meta.yaml' does not exist.\n",
      "WARNING:root:Malformed experiment '5'. Detailed error Yaml file '/Users/rina/Documents/Rubicon/Tutorial/mlruns/5/meta.yaml' does not exist.\n",
      "Traceback (most recent call last):\n",
      "  File \"/Users/rina/miniconda3/envs/mlflow/lib/python3.8/site-packages/mlflow/store/tracking/file_store.py\", line 197, in list_experiments\n",
      "    experiment = self._get_experiment(exp_id, view_type)\n",
      "  File \"/Users/rina/miniconda3/envs/mlflow/lib/python3.8/site-packages/mlflow/store/tracking/file_store.py\", line 260, in _get_experiment\n",
      "    meta = read_yaml(experiment_dir, FileStore.META_DATA_FILE_NAME)\n",
      "  File \"/Users/rina/miniconda3/envs/mlflow/lib/python3.8/site-packages/mlflow/utils/file_utils.py\", line 167, in read_yaml\n",
      "    raise MissingConfigException(\"Yaml file '%s' does not exist.\" % file_path)\n",
      "mlflow.exceptions.MissingConfigException: Yaml file '/Users/rina/Documents/Rubicon/Tutorial/mlruns/5/meta.yaml' does not exist.\n",
      "WARNING:root:Malformed experiment '6'. Detailed error Yaml file '/Users/rina/Documents/Rubicon/Tutorial/mlruns/6/meta.yaml' does not exist.\n",
      "Traceback (most recent call last):\n",
      "  File \"/Users/rina/miniconda3/envs/mlflow/lib/python3.8/site-packages/mlflow/store/tracking/file_store.py\", line 197, in list_experiments\n",
      "    experiment = self._get_experiment(exp_id, view_type)\n",
      "  File \"/Users/rina/miniconda3/envs/mlflow/lib/python3.8/site-packages/mlflow/store/tracking/file_store.py\", line 260, in _get_experiment\n",
      "    meta = read_yaml(experiment_dir, FileStore.META_DATA_FILE_NAME)\n",
      "  File \"/Users/rina/miniconda3/envs/mlflow/lib/python3.8/site-packages/mlflow/utils/file_utils.py\", line 167, in read_yaml\n",
      "    raise MissingConfigException(\"Yaml file '%s' does not exist.\" % file_path)\n",
      "mlflow.exceptions.MissingConfigException: Yaml file '/Users/rina/Documents/Rubicon/Tutorial/mlruns/6/meta.yaml' does not exist.\n",
      "WARNING:root:Malformed experiment '5'. Detailed error Yaml file '/Users/rina/Documents/Rubicon/Tutorial/mlruns/5/meta.yaml' does not exist.\n",
      "Traceback (most recent call last):\n",
      "  File \"/Users/rina/miniconda3/envs/mlflow/lib/python3.8/site-packages/mlflow/store/tracking/file_store.py\", line 197, in list_experiments\n",
      "    experiment = self._get_experiment(exp_id, view_type)\n",
      "  File \"/Users/rina/miniconda3/envs/mlflow/lib/python3.8/site-packages/mlflow/store/tracking/file_store.py\", line 260, in _get_experiment\n",
      "    meta = read_yaml(experiment_dir, FileStore.META_DATA_FILE_NAME)\n",
      "  File \"/Users/rina/miniconda3/envs/mlflow/lib/python3.8/site-packages/mlflow/utils/file_utils.py\", line 167, in read_yaml\n",
      "    raise MissingConfigException(\"Yaml file '%s' does not exist.\" % file_path)\n",
      "mlflow.exceptions.MissingConfigException: Yaml file '/Users/rina/Documents/Rubicon/Tutorial/mlruns/5/meta.yaml' does not exist.\n"
     ]
    },
    {
     "name": "stdout",
     "output_type": "stream",
     "text": [
      "INFO: 'Wine (Simple-live)' does not exist. Creating a new experiment\n",
      "KNN, n_neighbors=1\n",
      "    0.7111 Accuracy\n",
      "    0.7324 Precision\n",
      "    0.7000 Recall\n",
      "    0.7033 Fscore\n",
      "\n",
      "KNN, n_neighbors=5, weights=uniform\n",
      "    0.6667 Accuracy\n",
      "    0.6416 Precision\n",
      "    0.6537 Recall\n",
      "    0.6417 Fscore\n",
      "\n",
      "KNN, n_neighbors=5, weights=distance\n",
      "    0.6444 Accuracy\n",
      "    0.6772 Precision\n",
      "    0.6444 Recall\n",
      "    0.6467 Fscore\n",
      "\n"
     ]
    }
   ],
   "source": [
    "# set the mlflow experiment\n",
    "mlflow.set_experiment(\"Wine (Simple-live)\")\n",
    "    \n",
    "print(\"KNN, n_neighbors=1\")\n",
    "train_knn(n_neighbors=1)\n",
    "print()\n",
    "\n",
    "print(\"KNN, n_neighbors=5, weights=uniform\")\n",
    "train_knn(n_neighbors=5, weights=\"uniform\")\n",
    "print()\n",
    "\n",
    "print(\"KNN, n_neighbors=5, weights=distance\")\n",
    "train_knn(n_neighbors=5, weights=\"distance\")\n",
    "print()"
   ]
  },
  {
   "cell_type": "markdown",
   "metadata": {},
   "source": [
    "By default, the MLflow Python API logs runs locally to files in a `mlruns` directory wherever you ran your program. You can see the logged runs by running the `mlflow ui` command in the same directory as your code and then viewing the following webpage: http://localhost:5000"
   ]
  },
  {
   "cell_type": "code",
   "execution_count": null,
   "metadata": {},
   "outputs": [],
   "source": []
  }
 ],
 "metadata": {
  "kernelspec": {
   "display_name": "Python 3",
   "language": "python",
   "name": "python3"
  },
  "language_info": {
   "codemirror_mode": {
    "name": "ipython",
    "version": 3
   },
   "file_extension": ".py",
   "mimetype": "text/x-python",
   "name": "python",
   "nbconvert_exporter": "python",
   "pygments_lexer": "ipython3",
   "version": "3.8.3"
  }
 },
 "nbformat": 4,
 "nbformat_minor": 4
}
